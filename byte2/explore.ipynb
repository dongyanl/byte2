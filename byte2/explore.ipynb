{
 "cells": [
  {
   "cell_type": "code",
   "execution_count": 9,
   "metadata": {
    "collapsed": false
   },
   "outputs": [],
   "source": [
    "import csv\n",
    "import httplib2\n",
    "from apiclient.discovery import build\n",
    "import urllib\n",
    "import json\n",
    "\n",
    "\n",
    "# This API key is provided by google as described in the tutorial\n",
    "API_KEY = ''\n",
    "\n",
    "# This is the table id for the fusion table\n",
    "TABLE_ID = '1-fFaNY4vYfMCqRe74Mx23qFJvq1dND_AVSYfY0C2'\n",
    "\n",
    "try:\n",
    "    fp = open(\"dat.json\")\n",
    "    response = json.load(fp)\n",
    "except IOError:\n",
    "    service = build('fusiontables', 'v1', developerKey=API_KEY)\n",
    "    query = \"SELECT * FROM \" + TABLE_ID\n",
    "    response = service.query().sql(sql=query).execute()\n",
    "    fp = open(\"dat.json\", \"w+\")\n",
    "    json.dump(response, fp)"
   ]
  },
  {
   "cell_type": "code",
   "execution_count": 10,
   "metadata": {
    "collapsed": false
   },
   "outputs": [
    {
     "name": "stdout",
     "output_type": "stream",
     "text": [
      "56\n"
     ]
    }
   ],
   "source": [
    "print len(response['rows'])"
   ]
  },
  {
   "cell_type": "code",
   "execution_count": 11,
   "metadata": {
    "collapsed": true
   },
   "outputs": [],
   "source": [
    "import numpy as np\n",
    "import pandas as pd\n",
    "import matplotlib as mpl\n",
    "import matplotlib.pyplot as plt"
   ]
  },
  {
   "cell_type": "code",
   "execution_count": 12,
   "metadata": {
    "collapsed": true
   },
   "outputs": [],
   "source": [
    "data_df = pd.DataFrame(response[u'rows'], columns = response[u'columns'])"
   ]
  },
  {
   "cell_type": "code",
   "execution_count": 13,
   "metadata": {
    "collapsed": false
   },
   "outputs": [
    {
     "data": {
      "text/html": [
       "<div>\n",
       "<style scoped>\n",
       "    .dataframe tbody tr th:only-of-type {\n",
       "        vertical-align: middle;\n",
       "    }\n",
       "\n",
       "    .dataframe tbody tr th {\n",
       "        vertical-align: top;\n",
       "    }\n",
       "\n",
       "    .dataframe thead th {\n",
       "        text-align: right;\n",
       "    }\n",
       "</style>\n",
       "<table border=\"1\" class=\"dataframe\">\n",
       "  <thead>\n",
       "    <tr style=\"text-align: right;\">\n",
       "      <th></th>\n",
       "      <th>airline</th>\n",
       "      <th>avail_seat_km_per_week</th>\n",
       "      <th>incidents_85_99</th>\n",
       "      <th>fatal_accidents_85_99</th>\n",
       "      <th>fatalities_85_99</th>\n",
       "      <th>incidents_00_14</th>\n",
       "      <th>fatal_accidents_00_14</th>\n",
       "      <th>fatalities_00_14</th>\n",
       "    </tr>\n",
       "  </thead>\n",
       "  <tbody>\n",
       "    <tr>\n",
       "      <th>0</th>\n",
       "      <td>Aer Lingus</td>\n",
       "      <td>320906734</td>\n",
       "      <td>2</td>\n",
       "      <td>0</td>\n",
       "      <td>0</td>\n",
       "      <td>0</td>\n",
       "      <td>0</td>\n",
       "      <td>0</td>\n",
       "    </tr>\n",
       "    <tr>\n",
       "      <th>1</th>\n",
       "      <td>Aeroflot*</td>\n",
       "      <td>1197672318</td>\n",
       "      <td>76</td>\n",
       "      <td>14</td>\n",
       "      <td>128</td>\n",
       "      <td>6</td>\n",
       "      <td>1</td>\n",
       "      <td>88</td>\n",
       "    </tr>\n",
       "    <tr>\n",
       "      <th>2</th>\n",
       "      <td>Aerolineas Argentinas</td>\n",
       "      <td>385803648</td>\n",
       "      <td>6</td>\n",
       "      <td>0</td>\n",
       "      <td>0</td>\n",
       "      <td>1</td>\n",
       "      <td>0</td>\n",
       "      <td>0</td>\n",
       "    </tr>\n",
       "    <tr>\n",
       "      <th>3</th>\n",
       "      <td>Aeromexico*</td>\n",
       "      <td>596871813</td>\n",
       "      <td>3</td>\n",
       "      <td>1</td>\n",
       "      <td>64</td>\n",
       "      <td>5</td>\n",
       "      <td>0</td>\n",
       "      <td>0</td>\n",
       "    </tr>\n",
       "    <tr>\n",
       "      <th>4</th>\n",
       "      <td>Air Canada</td>\n",
       "      <td>1865253802</td>\n",
       "      <td>2</td>\n",
       "      <td>0</td>\n",
       "      <td>0</td>\n",
       "      <td>2</td>\n",
       "      <td>0</td>\n",
       "      <td>0</td>\n",
       "    </tr>\n",
       "  </tbody>\n",
       "</table>\n",
       "</div>"
      ],
      "text/plain": [
       "                 airline avail_seat_km_per_week incidents_85_99  \\\n",
       "0             Aer Lingus              320906734               2   \n",
       "1              Aeroflot*             1197672318              76   \n",
       "2  Aerolineas Argentinas              385803648               6   \n",
       "3            Aeromexico*              596871813               3   \n",
       "4             Air Canada             1865253802               2   \n",
       "\n",
       "  fatal_accidents_85_99 fatalities_85_99 incidents_00_14  \\\n",
       "0                     0                0               0   \n",
       "1                    14              128               6   \n",
       "2                     0                0               1   \n",
       "3                     1               64               5   \n",
       "4                     0                0               2   \n",
       "\n",
       "  fatal_accidents_00_14 fatalities_00_14  \n",
       "0                     0                0  \n",
       "1                     1               88  \n",
       "2                     0                0  \n",
       "3                     0                0  \n",
       "4                     0                0  "
      ]
     },
     "execution_count": 13,
     "metadata": {},
     "output_type": "execute_result"
    }
   ],
   "source": [
    "data_df.head()"
   ]
  },
  {
   "cell_type": "code",
   "execution_count": 24,
   "metadata": {
    "collapsed": false
   },
   "outputs": [],
   "source": [
    "x = data_df['fatalities_85_99']\n",
    "y = data_df['fatalities_00_14']"
   ]
  },
  {
   "cell_type": "code",
   "execution_count": 17,
   "metadata": {
    "collapsed": false
   },
   "outputs": [
    {
     "data": {
      "text/plain": [
       "0       0\n",
       "1     128\n",
       "2       0\n",
       "3      64\n",
       "4       0\n",
       "5      79\n",
       "6     329\n",
       "7       0\n",
       "8       0\n",
       "9      50\n",
       "10      1\n",
       "11    101\n",
       "12      0\n",
       "13    323\n",
       "14      0\n",
       "15      0\n",
       "16    535\n",
       "17     16\n",
       "18     47\n",
       "19    407\n",
       "20    282\n",
       "21      4\n",
       "22    167\n",
       "23      0\n",
       "24    260\n",
       "25      0\n",
       "26      0\n",
       "27    148\n",
       "28    520\n",
       "29      0\n",
       "30      3\n",
       "31    425\n",
       "32     21\n",
       "33      2\n",
       "34     34\n",
       "35    234\n",
       "36     74\n",
       "37      0\n",
       "38     51\n",
       "39      0\n",
       "40    313\n",
       "41      6\n",
       "42    159\n",
       "43      0\n",
       "44     14\n",
       "45    229\n",
       "46      3\n",
       "47     98\n",
       "48      0\n",
       "49    308\n",
       "50     64\n",
       "51    319\n",
       "52    224\n",
       "53    171\n",
       "54      0\n",
       "55     82\n",
       "Name: fatalities_85_99, dtype: object"
      ]
     },
     "execution_count": 17,
     "metadata": {},
     "output_type": "execute_result"
    }
   ],
   "source": [
    "x"
   ]
  },
  {
   "cell_type": "code",
   "execution_count": 43,
   "metadata": {
    "collapsed": false
   },
   "outputs": [
    {
     "data": {
      "image/png": "[encoded data removed]",
      "text/plain": [
       "<matplotlib.figure.Figure at 0x7fdfe0b09090>"
      ]
     },
     "metadata": {},
     "output_type": "display_data"
    },
    {
     "data": {
      "text/plain": [
       "<matplotlib.figure.Figure at 0x7fdfe0a38750>"
      ]
     },
     "metadata": {},
     "output_type": "display_data"
    }
   ],
   "source": [
    "plt.scatter(x,y)\n",
    "plt.axis([-10, 600, -10, 600])\n",
    "plt.xlabel('1985-1999')\n",
    "plt.ylabel('2000-2014')\n",
    "plt.suptitle('Total Number of Fatalities')\n",
    "plt.show()\n",
    "plt.savefig('fatalities.png')"
   ]
  },
  {
   "cell_type": "code",
   "execution_count": 46,
   "metadata": {
    "collapsed": false
   },
   "outputs": [
    {
     "data": {
      "image/png": "[encoded data removed]",
      "text/plain": [
       "<matplotlib.figure.Figure at 0x7fdfe106bf90>"
      ]
     },
     "metadata": {},
     "output_type": "display_data"
    },
    {
     "data": {
      "text/plain": [
       "<matplotlib.figure.Figure at 0x7fdfe0d9b990>"
      ]
     },
     "metadata": {},
     "output_type": "display_data"
    }
   ],
   "source": [
    "x2 = data_df['incidents_85_99']\n",
    "y2 = data_df['incidents_00_14']\n",
    "plt.scatter(x2,y2)\n",
    "plt.axis([-1, 80, -1, 80])\n",
    "plt.xlabel('1985-1999')\n",
    "plt.ylabel('2000-2014')\n",
    "plt.suptitle('Total Number of Incidents')\n",
    "plt.show()\n",
    "plt.savefig('incidents.png')"
   ]
  },
  {
   "cell_type": "code",
   "execution_count": 60,
   "metadata": {
    "collapsed": false
   },
   "outputs": [
    {
     "name": "stdout",
     "output_type": "stream",
     "text": [
      "[0.250994955650962, 0.936751019817474, 0.301753622657664, 0.46683911043525905, 1.458895204457686, 2.349559653282523, 0.679880580921936, 0.5554582618928311, 0.755039221074539, 0.545945589223214, 1.440108422901311, 4.08932309497962, 0.28019476988068903, 0.310450204192509, 2.4870277702801364, 2.019852466626329, 0.636051582791641, 0.32692217253323, 0.43056307875950106, 5.103998424329842, 0.43620106584641305, 0.262368323053289, 0.38212428699794904, 0.39612801538785003, 0.479732622033095, 0.235722071189966, 0.386283060214685, 0.917612612579018, 1.231263222348933, 0.21697803922354203, 1.4661753688195391, 1.356644713842515, 0.7836806078844131, 2.680036065847072, 0.812780514295892, 0.272626217662591, 0.323030657579594, 1.499703657832712, 0.23128386096147702, 0.534181653238836, 0.672387923949843, 1.859042694176115, 0.509568074493206, 2.5627116953251097, 0.254652445597568, 0.6199275578037571, 0.202867046960478, 1.1804068101493779, 0.484248785325822, 1.33183486022175, 1.522127157964042, 5.583946708216613, 1.920699091001841, 0.48890579301927406, 0.7862481440176551, 0.336683592487566]\n"
     ]
    }
   ],
   "source": [
    "ask = []\n",
    "for i in data_df['avail_seat_km_per_week']:\n",
    "  ask.append(float(i)*782.143 / 1000000000000)"
   ]
  },
  {
   "cell_type": "code",
   "execution_count": 63,
   "metadata": {
    "collapsed": false
   },
   "outputs": [
    {
     "name": "stdout",
     "output_type": "stream",
     "text": [
      "[0.0, 136.64249869185176, 0.0, 137.09219850995214, 0.0, 33.62332166779876, 483.9085116298914, 0.0, 0.0, 91.58421825724673, 0.6943921611022539, 24.698464184450398, 0.0, 1040.4245049222416, 0.0, 0.0, 841.1267489530898, 48.94131186031342, 109.15938295362459, 79.74140392753732, 646.4908549748766, 15.245742906195156, 437.0305831958185, 0.0, 541.9685634429579, 0.0, 0.0, 161.288105646276, 422.3304899889513, 0.0, 2.046139952832101, 313.27288247506175, 26.79663090897528, 0.7462586140115488, 41.83171151618225, 858.3180370774327, 229.08042398968456, 0.0, 220.50825244782055, 0.0, 465.50508843366487, 3.2274675663966192, 312.02896719566746, 0.0, 54.97689200332464, 369.3980000038839, 14.788010398674812, 83.02222518319623, 0.0, 231.2599025593294, 42.04642146034944, 57.12805237388832, 116.62420264027983, 349.7606337285897, 0.0, 243.55211192249686]\n"
     ]
    }
   ],
   "source": [
    "x3=[]\n",
    "for i in range(len(data_df['fatalities_85_99'])):\n",
    "  a=float(data_df['fatalities_85_99'][i])/ask[i]\n",
    "  x3.append(a)\n"
   ]
  },
  {
   "cell_type": "code",
   "execution_count": 64,
   "metadata": {
    "collapsed": false
   },
   "outputs": [
    {
     "name": "stdout",
     "output_type": "stream",
     "text": [
      "[0.0, 93.94171785064809, 0.0, 0.0, 0.0, 143.431131671496, 232.39375330554054, 12.602207006780583, 116.55023678738466, 0.0, 0.0, 101.72832773001352, 0.0, 0.0, 0.0, 0.0, 353.74489441952375, 0.0, 0.0, 9.992166094114014, 32.0952906725116, 0.0, 240.75936319769644, 0.0, 45.85887844517336, 606.6466295587475, 0.0, 0.0, 0.0, 1304.2794607819214, 0.0, 0.0, 0.0, 0.0, 660.6949730644079, 168.72918677590556, 3.0956814052660078, 0.0, 0.0, 205.92245977197254, 0.0, 44.64663466848656, 0.0, 0.0, 0.0, 0.0, 14.788010398674812, 159.26712586164172, 0.0, 0.7508438394783422, 55.18592816670864, 19.520243601109176, 11.974806521100161, 0.0, 0.0, 0.0]\n"
     ]
    }
   ],
   "source": [
    "y3=[]\n",
    "for i in range(len(data_df['fatalities_00_14'])):\n",
    "  a=float(data_df['fatalities_00_14'][i])/ask[i]\n",
    "  y3.append(a)\n"
   ]
  },
  {
   "cell_type": "code",
   "execution_count": 68,
   "metadata": {
    "collapsed": false
   },
   "outputs": [
    {
     "data": {
      "image/png": "[encoded data removed]",
      "text/plain": [
       "<matplotlib.figure.Figure at 0x7fdfe0d4d0d0>"
      ]
     },
     "metadata": {},
     "output_type": "display_data"
    },
    {
     "data": {
      "text/plain": [
       "<matplotlib.figure.Figure at 0x7fdfe0b97950>"
      ]
     },
     "metadata": {},
     "output_type": "display_data"
    }
   ],
   "source": [
    "plt.scatter(x3,y3)\n",
    "plt.axis([-10, 1400, -10, 1400])\n",
    "plt.xlabel('1985-1999')\n",
    "plt.ylabel('2000-2014')\n",
    "plt.suptitle('Number of Fatalities per 1 Trillion Seat Kilometers')\n",
    "plt.show()\n",
    "plt.savefig('fatalitiesperask.png')"
   ]
  },
  {
   "cell_type": "code",
   "execution_count": 69,
   "metadata": {
    "collapsed": true
   },
   "outputs": [],
   "source": [
    "x4=[]\n",
    "for i in range(len(data_df['incidents_85_99'])):\n",
    "  a=float(data_df['incidents_85_99'][i])/ask[i]\n",
    "  x4.append(a)"
   ]
  },
  {
   "cell_type": "code",
   "execution_count": 70,
   "metadata": {
    "collapsed": true
   },
   "outputs": [],
   "source": [
    "y4=[]\n",
    "for i in range(len(data_df['incidents_00_14'])):\n",
    "  a=float(data_df['incidents_00_14'][i])/ask[i]\n",
    "  y4.append(a)"
   ]
  },
  {
   "cell_type": "code",
   "execution_count": 72,
   "metadata": {
    "collapsed": false
   },
   "outputs": [
    {
     "data": {
      "image/png": "[encoded data removed]",
      "text/plain": [
       "<matplotlib.figure.Figure at 0x7fdfe0a5ead0>"
      ]
     },
     "metadata": {},
     "output_type": "display_data"
    },
    {
     "data": {
      "text/plain": [
       "<matplotlib.figure.Figure at 0x7fdfe0c86190>"
      ]
     },
     "metadata": {},
     "output_type": "display_data"
    }
   ],
   "source": [
    "plt.scatter(x4,y4)\n",
    "plt.axis([-1, 100, -1, 100])\n",
    "plt.xlabel('1985-1999')\n",
    "plt.ylabel('2000-2014')\n",
    "plt.suptitle('Number of Incidents per 1 Trillion Seat Kilometers')\n",
    "plt.show()\n",
    "plt.savefig('incidentsperask.png')"
   ]
  },
  {
   "cell_type": "code",
   "execution_count": null,
   "metadata": {
    "collapsed": true
   },
   "outputs": [],
   "source": []
  }
 ],
 "metadata": {
  "kernelspec": {
   "display_name": "Python 2",
   "language": "python",
   "name": "python2"
  },
  "language_info": {
   "codemirror_mode": {
    "name": "ipython",
    "version": 2
   },
   "file_extension": ".py",
   "mimetype": "text/x-python",
   "name": "python",
   "nbconvert_exporter": "python",
   "pygments_lexer": "ipython2",
   "version": "2.7.12"
  }
 },
 "nbformat": 4,
 "nbformat_minor": 2
}
